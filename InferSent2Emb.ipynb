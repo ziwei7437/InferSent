{
 "cells": [
  {
   "cell_type": "code",
   "execution_count": 57,
   "metadata": {},
   "outputs": [],
   "source": [
    "from models import InferSent\n",
    "import torch\n",
    "import numpy as np"
   ]
  },
  {
   "cell_type": "code",
   "execution_count": 4,
   "metadata": {},
   "outputs": [
    {
     "data": {
      "text/plain": [
       "<All keys matched successfully>"
      ]
     },
     "execution_count": 4,
     "metadata": {},
     "output_type": "execute_result"
    }
   ],
   "source": [
    "V = 2\n",
    "MODEL_PATH = 'InfersentEmbeddings/encoder/infersent%s.pkl' % V\n",
    "params_model = {'bsize': 64, 'word_emb_dim': 300, 'enc_lstm_dim': 2048,\n",
    "                'pool_type': 'max', 'dpout_model': 0.0, 'version': V}\n",
    "infersent = InferSent(params_model)\n",
    "infersent.load_state_dict(torch.load(MODEL_PATH))"
   ]
  },
  {
   "cell_type": "code",
   "execution_count": 5,
   "metadata": {},
   "outputs": [],
   "source": [
    "W2V_PATH = 'InfersentEmbeddings/fastText/crawl-300d-2M.vec'\n",
    "infersent.set_w2v_path(W2V_PATH)"
   ]
  },
  {
   "cell_type": "code",
   "execution_count": 8,
   "metadata": {},
   "outputs": [],
   "source": [
    "# Load embeddings of K most frequent words\n",
    "infersent.build_vocab_k_words(K=100000)"
   ]
  },
  {
   "cell_type": "code",
   "execution_count": 28,
   "metadata": {},
   "outputs": [
    {
     "data": {
      "image/png": "[encoded data removed]",
      "text/plain": [
       "<Figure size 432x288 with 1 Axes>"
      ]
     },
     "metadata": {
      "needs_background": "light"
     },
     "output_type": "display_data"
    },
    {
     "name": "stdout",
     "output_type": "stream",
     "text": [
      "(tensor([[ 0.0075,  0.1760,  0.1548,  ..., -0.0282, -0.0188,  0.0066]],\n",
      "       grad_fn=<MaxBackward0>), array([[0, 2, 5, ..., 1, 4, 5]]))\n"
     ]
    }
   ],
   "source": [
    "vis = infersent.visualize('a man plays an instrument', tokenize=True)\n",
    "print(vis)"
   ]
  },
  {
   "cell_type": "code",
   "execution_count": 24,
   "metadata": {},
   "outputs": [
    {
     "name": "stdout",
     "output_type": "stream",
     "text": [
      "[[ 0.00746889  0.17604084  0.15484244 ... -0.02819919 -0.01880179\n",
      "   0.00661049]]\n"
     ]
    }
   ],
   "source": [
    "embeddings = infersent.encode(['a man plays an instrument'], tokenize=True)\n",
    "print(embeddings)"
   ]
  },
  {
   "cell_type": "code",
   "execution_count": 23,
   "metadata": {},
   "outputs": [
    {
     "data": {
      "text/plain": [
       "tensor([[ 0.0075,  0.1760,  0.1548,  ..., -0.0282, -0.0188,  0.0066]],\n",
       "       grad_fn=<MaxBackward0>)"
      ]
     },
     "execution_count": 23,
     "metadata": {},
     "output_type": "execute_result"
    }
   ],
   "source": [
    "vis[0]"
   ]
  },
  {
   "cell_type": "code",
   "execution_count": 26,
   "metadata": {},
   "outputs": [
    {
     "data": {
      "text/plain": [
       "array([[0, 2, 5, ..., 1, 4, 5]])"
      ]
     },
     "execution_count": 26,
     "metadata": {},
     "output_type": "execute_result"
    }
   ],
   "source": [
    "vis[1]"
   ]
  },
  {
   "cell_type": "code",
   "execution_count": 25,
   "metadata": {},
   "outputs": [
    {
     "data": {
      "text/plain": [
       "array([[ 0.00746889,  0.17604084,  0.15484244, ..., -0.02819919,\n",
       "        -0.01880179,  0.00661049]], dtype=float32)"
      ]
     },
     "execution_count": 25,
     "metadata": {},
     "output_type": "execute_result"
    }
   ],
   "source": [
    "embeddings"
   ]
  },
  {
   "cell_type": "code",
   "execution_count": 30,
   "metadata": {},
   "outputs": [
    {
     "data": {
      "text/plain": [
       "['a', 'man', 'plays', 'an', 'instrument']"
      ]
     },
     "execution_count": 30,
     "metadata": {},
     "output_type": "execute_result"
    }
   ],
   "source": [
    "sent = infersent.tokenize('a man plays an instrument')\n",
    "sent"
   ]
  },
  {
   "cell_type": "code",
   "execution_count": 31,
   "metadata": {},
   "outputs": [
    {
     "data": {
      "text/plain": [
       "[['<p>', 'a', 'man', 'plays', 'an', 'instrument', '</p>']]"
      ]
     },
     "execution_count": 31,
     "metadata": {},
     "output_type": "execute_result"
    }
   ],
   "source": [
    "sent = [[infersent.bos] + [word for word in sent if word in infersent.word_vec] + [infersent.eos]]\n",
    "sent"
   ]
  },
  {
   "cell_type": "code",
   "execution_count": 32,
   "metadata": {},
   "outputs": [],
   "source": [
    "batch = infersent.get_batch(sent)"
   ]
  },
  {
   "cell_type": "code",
   "execution_count": 34,
   "metadata": {},
   "outputs": [
    {
     "data": {
      "text/plain": [
       "torch.Size([7, 1, 300])"
      ]
     },
     "execution_count": 34,
     "metadata": {},
     "output_type": "execute_result"
    }
   ],
   "source": [
    "batch.shape"
   ]
  },
  {
   "cell_type": "code",
   "execution_count": 46,
   "metadata": {},
   "outputs": [],
   "source": [
    "output = infersent.enc_lstm(batch)[0]"
   ]
  },
  {
   "cell_type": "code",
   "execution_count": 47,
   "metadata": {},
   "outputs": [
    {
     "data": {
      "text/plain": [
       "tensor([[[ 0.0075, -0.2128, -0.0988,  ..., -0.0872, -0.0712, -0.0473]],\n",
       "\n",
       "        [[-0.0646, -0.1243, -0.0449,  ..., -0.0282, -0.0566, -0.0368]],\n",
       "\n",
       "        [[-0.1041,  0.1760,  0.0102,  ..., -0.0300, -0.0671, -0.0445]],\n",
       "\n",
       "        ...,\n",
       "\n",
       "        [[-0.1088, -0.0836,  0.0132,  ..., -0.0825, -0.0188, -0.0228]],\n",
       "\n",
       "        [[-0.1184,  0.0328,  0.1548,  ..., -0.0466, -0.0896,  0.0066]],\n",
       "\n",
       "        [[-0.0441, -0.1236, -0.0217,  ..., -0.1045, -0.0648, -0.0686]]],\n",
       "       grad_fn=<CatBackward>)"
      ]
     },
     "execution_count": 47,
     "metadata": {},
     "output_type": "execute_result"
    }
   ],
   "source": [
    "output"
   ]
  },
  {
   "cell_type": "code",
   "execution_count": 48,
   "metadata": {},
   "outputs": [],
   "source": [
    "output, idxs = torch.max(output, 0)"
   ]
  },
  {
   "cell_type": "code",
   "execution_count": 49,
   "metadata": {},
   "outputs": [
    {
     "data": {
      "text/plain": [
       "tensor([[ 0.0075,  0.1760,  0.1548,  ..., -0.0282, -0.0188,  0.0066]],\n",
       "       grad_fn=<MaxBackward0>)"
      ]
     },
     "execution_count": 49,
     "metadata": {},
     "output_type": "execute_result"
    }
   ],
   "source": [
    "output"
   ]
  },
  {
   "cell_type": "code",
   "execution_count": 62,
   "metadata": {},
   "outputs": [
    {
     "data": {
      "text/plain": [
       "tensor([[0, 2, 5,  ..., 1, 4, 5]])"
      ]
     },
     "execution_count": 62,
     "metadata": {},
     "output_type": "execute_result"
    }
   ],
   "source": [
    "idxs"
   ]
  },
  {
   "cell_type": "code",
   "execution_count": 66,
   "metadata": {},
   "outputs": [
    {
     "data": {
      "text/plain": [
       "array([[0, 2, 5, ..., 1, 4, 5]])"
      ]
     },
     "execution_count": 66,
     "metadata": {},
     "output_type": "execute_result"
    }
   ],
   "source": [
    "idxs = idxs.data.cpu().numpy()\n",
    "idxs"
   ]
  },
  {
   "cell_type": "code",
   "execution_count": 67,
   "metadata": {},
   "outputs": [
    {
     "data": {
      "text/plain": [
       "7"
      ]
     },
     "execution_count": 67,
     "metadata": {},
     "output_type": "execute_result"
    }
   ],
   "source": [
    "len(sent[0])"
   ]
  },
  {
   "cell_type": "code",
   "execution_count": 68,
   "metadata": {},
   "outputs": [
    {
     "data": {
      "text/plain": [
       "[373, 551, 576, 814, 535, 873, 374]"
      ]
     },
     "execution_count": 68,
     "metadata": {},
     "output_type": "execute_result"
    }
   ],
   "source": [
    "argmaxs = [np.sum((idxs == k)) for k in range(len(sent[0]))]\n",
    "argmaxs"
   ]
  },
  {
   "cell_type": "code",
   "execution_count": 69,
   "metadata": {},
   "outputs": [
    {
     "data": {
      "text/plain": [
       "array([[0, 2, 5, ..., 1, 4, 5]])"
      ]
     },
     "execution_count": 69,
     "metadata": {},
     "output_type": "execute_result"
    }
   ],
   "source": [
    "idxs"
   ]
  },
  {
   "cell_type": "code",
   "execution_count": 70,
   "metadata": {},
   "outputs": [
    {
     "data": {
      "text/plain": [
       "OrderedDict([('enc_lstm.weight_ih_l0',\n",
       "              tensor([[-0.0188, -0.0096, -0.0165,  ...,  0.0063,  0.0177,  0.0182],\n",
       "                      [ 0.0040, -0.0170,  0.0282,  ...,  0.0270, -0.0006, -0.0099],\n",
       "                      [-0.0333,  0.0013,  0.0235,  ...,  0.0239, -0.0444,  0.0009],\n",
       "                      ...,\n",
       "                      [ 0.0068, -0.0130, -0.0136,  ..., -0.0003,  0.0145, -0.0031],\n",
       "                      [-0.0075, -0.0210,  0.0135,  ...,  0.0149, -0.0059,  0.0018],\n",
       "                      [-0.0076,  0.0241, -0.0258,  ..., -0.0104,  0.0177,  0.0241]])),\n",
       "             ('enc_lstm.weight_hh_l0',\n",
       "              tensor([[ 2.4178e-02, -3.4815e-03, -1.5027e-02,  ...,  2.3643e-02,\n",
       "                       -4.6200e-03, -1.2944e-02],\n",
       "                      [ 2.1155e-02, -9.4947e-03,  2.8347e-02,  ..., -1.1898e-02,\n",
       "                       -1.6273e-02, -1.7331e-02],\n",
       "                      [ 1.6204e-02, -2.0330e-02, -6.8777e-03,  ..., -8.8209e-03,\n",
       "                       -1.4847e-02, -1.4684e-03],\n",
       "                      ...,\n",
       "                      [-1.4652e-02,  1.8830e-02, -1.7304e-02,  ..., -3.0782e-03,\n",
       "                        2.2650e-02, -3.0427e-03],\n",
       "                      [ 2.0105e-02,  1.5485e-02, -1.2704e-02,  ..., -5.0405e-03,\n",
       "                        4.3332e-03,  9.8781e-03],\n",
       "                      [ 1.2839e-02,  1.2623e-02,  2.7439e-02,  ...,  4.0228e-05,\n",
       "                        4.5512e-03,  1.6263e-02]])),\n",
       "             ('enc_lstm.bias_ih_l0',\n",
       "              tensor([-0.0611, -0.0055, -0.0385,  ..., -0.0347, -0.0104, -0.0246])),\n",
       "             ('enc_lstm.bias_hh_l0',\n",
       "              tensor([-0.0852, -0.0344, -0.0362,  ..., -0.0244, -0.0167, -0.0584])),\n",
       "             ('enc_lstm.weight_ih_l0_reverse',\n",
       "              tensor([[ 0.0149,  0.0063, -0.0095,  ...,  0.0191, -0.0228, -0.0023],\n",
       "                      [ 0.0053, -0.0351,  0.0062,  ..., -0.0176, -0.0210,  0.0186],\n",
       "                      [-0.0078, -0.0183, -0.0037,  ..., -0.0404, -0.0088,  0.0136],\n",
       "                      ...,\n",
       "                      [ 0.0017,  0.0079,  0.0176,  ...,  0.0165, -0.0082,  0.0047],\n",
       "                      [ 0.0163, -0.0105,  0.0024,  ..., -0.0031,  0.0013,  0.0086],\n",
       "                      [ 0.0180,  0.0215, -0.0032,  ...,  0.0184,  0.0044, -0.0037]])),\n",
       "             ('enc_lstm.weight_hh_l0_reverse',\n",
       "              tensor([[-0.0206,  0.0005, -0.0076,  ...,  0.0196, -0.0039,  0.0148],\n",
       "                      [ 0.0176, -0.0246,  0.0089,  ...,  0.0132,  0.0191, -0.0216],\n",
       "                      [-0.0119, -0.0183,  0.0064,  ...,  0.0153, -0.0011, -0.0028],\n",
       "                      ...,\n",
       "                      [ 0.0219, -0.0189,  0.0177,  ..., -0.0026, -0.0062,  0.0181],\n",
       "                      [ 0.0069, -0.0137,  0.0187,  ...,  0.0125, -0.0003,  0.0183],\n",
       "                      [ 0.0168,  0.0030,  0.0150,  ..., -0.0136,  0.0115,  0.0183]])),\n",
       "             ('enc_lstm.bias_ih_l0_reverse',\n",
       "              tensor([-0.0459, -0.0489, -0.0311,  ..., -0.0428, -0.0268, -0.0623])),\n",
       "             ('enc_lstm.bias_hh_l0_reverse',\n",
       "              tensor([-0.0369, -0.0386, -0.0591,  ..., -0.0653, -0.0569, -0.0519]))])"
      ]
     },
     "execution_count": 70,
     "metadata": {},
     "output_type": "execute_result"
    }
   ],
   "source": [
    "state_dict = torch.load(MODEL_PATH)\n",
    "state_dict"
   ]
  },
  {
   "cell_type": "code",
   "execution_count": null,
   "metadata": {},
   "outputs": [],
   "source": []
  }
 ],
 "metadata": {
  "kernelspec": {
   "display_name": "Python 3.7.6 64-bit ('torch': conda)",
   "language": "python",
   "name": "python37664bittorchconda67bac34c7fbf408fbfd4ada82bee6984"
  },
  "language_info": {
   "codemirror_mode": {
    "name": "ipython",
    "version": 3
   },
   "file_extension": ".py",
   "mimetype": "text/x-python",
   "name": "python",
   "nbconvert_exporter": "python",
   "pygments_lexer": "ipython3",
   "version": "3.7.6"
  }
 },
 "nbformat": 4,
 "nbformat_minor": 2
}
